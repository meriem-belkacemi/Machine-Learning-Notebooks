{
  "cells": [
    {
      "cell_type": "markdown",
      "metadata": {
        "id": "view-in-github",
        "colab_type": "text"
      },
      "source": [
        "<a href=\"https://colab.research.google.com/github/meriem-belkacemi/Machine-Learning-Notebooks/blob/main/TP_5_RN11.ipynb\" target=\"_parent\"><img src=\"https://colab.research.google.com/assets/colab-badge.svg\" alt=\"Open In Colab\"/></a>"
      ]
    },
    {
      "cell_type": "markdown",
      "source": [
        "\n",
        "\n",
        "\n",
        "# Ce TP a été réalisé par :\n",
        "\n",
        "*   BELKACEMI Meriem\n",
        "*   LABRI Ahlem\n",
        "*   MAYOUF Lotfi\n",
        "\n",
        "\n",
        "\n",
        "\n",
        "\n",
        "\n",
        "\n"
      ],
      "metadata": {
        "id": "7O77n1YghyxC"
      }
    },
    {
      "cell_type": "markdown",
      "metadata": {
        "id": "zqoxeqNsmRBT"
      },
      "source": [
        "# TP 5 Réseaux de neurones - Multi classification et Propagation en avant\n",
        "Dans ce TP, nous aimerions faire une classification multiclasse. Pour ce faire, nous allons comparer entre une classification utilisant la regression logistique, et une classification en utilisant les réseaux de neurones.\n",
        "\n",
        "L'ensemble de données que nous allons utiliser est le même que celui utilisé durant le TP1, i.e. les images de chiffres manuscrits.\n"
      ]
    },
    {
      "cell_type": "markdown",
      "metadata": {
        "id": "oXyY3k3pmRBf"
      },
      "source": [
        "# Importation des librairies necessaires au travail"
      ]
    },
    {
      "cell_type": "code",
      "execution_count": null,
      "metadata": {
        "id": "X9TKPz9HmRBg"
      },
      "outputs": [],
      "source": [
        "import numpy as np\n",
        "import matplotlib.pyplot as plt\n",
        "from numpy import random\n",
        "import cv2"
      ]
    },
    {
      "cell_type": "markdown",
      "metadata": {
        "id": "nb6NYUeQmRBi"
      },
      "source": [
        "# Lecture des fichiers de données\n",
        "Pour ce TP, nous allons lire les données à partir d'un fichier csv."
      ]
    },
    {
      "cell_type": "code",
      "execution_count": null,
      "metadata": {
        "colab": {
          "base_uri": "https://localhost:8080/"
        },
        "id": "7qEEhlIXmRBj",
        "outputId": "fcb0f2bf-9f45-43b1-afc2-df9565487284"
      },
      "outputs": [
        {
          "output_type": "execute_result",
          "data": {
            "text/plain": [
              "(5000, 401)"
            ]
          },
          "metadata": {},
          "execution_count": 6
        }
      ],
      "source": [
        "# données\n",
        "data = np.genfromtxt('data.csv', delimiter=',', dtype=float)\n",
        "data.shape"
      ]
    },
    {
      "cell_type": "markdown",
      "metadata": {
        "id": "xJkmfgCzmRBl"
      },
      "source": [
        "Dans ces données (data), les 400 premières colonnes representent les pixels de l'image (20x20), la dernière colonne represente la classe de l'image (chiffres de 0 à 9). (http://yann.lecun.com/exdb/mnist/)\n",
        "\n",
        "Chaque ligne represente un exemple de notre ensemble de données.\n",
        "\n",
        "Mettons ces données dans leus vecteurs correspondants."
      ]
    },
    {
      "cell_type": "code",
      "execution_count": null,
      "metadata": {
        "id": "QP-4SWzZmRBm"
      },
      "outputs": [],
      "source": [
        "# rajoutons l'ordonnée à l'origine theta 0\n",
        "intercept=np.ones((data.shape[0],1))\n",
        "X=np.column_stack((intercept,data[:,:-1]))\n",
        "y=data[:,-1]\n",
        "# forcer y à avoir une seule colonne\n",
        "y = y.reshape( y.shape[0], 1)"
      ]
    },
    {
      "cell_type": "code",
      "execution_count": null,
      "metadata": {
        "id": "1BbIDJUumRBn",
        "outputId": "a51be118-4d61-469e-c31b-1d406c078d0b",
        "colab": {
          "base_uri": "https://localhost:8080/"
        }
      },
      "outputs": [
        {
          "output_type": "stream",
          "name": "stdout",
          "text": [
            "X (5000, 401)  y  (5000, 1)\n"
          ]
        }
      ],
      "source": [
        "print('X', X.shape ,' y ', y.shape)"
      ]
    },
    {
      "cell_type": "markdown",
      "metadata": {
        "id": "wOLhygU0mRBo"
      },
      "source": [
        "Visualisation aléatoire de quelques données"
      ]
    },
    {
      "cell_type": "code",
      "execution_count": null,
      "metadata": {
        "id": "9rncM2LpmRBo",
        "outputId": "2d5a7453-0cf4-43c1-a420-23e0e97c7917",
        "colab": {
          "base_uri": "https://localhost:8080/",
          "height": 158
        }
      },
      "outputs": [
        {
          "output_type": "display_data",
          "data": {
            "text/plain": [
              "<Figure size 1500x800 with 13 Axes>"
            ],
            "image/png": "[encoded data removed]"
          },
          "metadata": {}
        }
      ],
      "source": [
        "plt.figure(figsize=(15,8))\n",
        "for i in range(13):\n",
        "    c = random.randint(X.shape[0])\n",
        "    a = X[c,1:].reshape((20, 20))\n",
        "    a=np.transpose(a)\n",
        "    plt.subplot(1,13,i+1)\n",
        "    plt.title('label '+ str(y[c]))\n",
        "    plt.imshow(a,cmap='gray')"
      ]
    },
    {
      "cell_type": "markdown",
      "metadata": {
        "id": "MOXA7crpmRBp"
      },
      "source": [
        "# Partie 1, régression logistique\n",
        "Dans cette partie, nous aimerions utiliser la régression logistique pour classifier nos images\n",
        "\n",
        "Rappelons que la régression logistique nous donne la probabilité d'appartenance (oui ou non) à la classe 1 (elle permet une classification binaire).\n",
        "\n",
        "Pour étendre la régression logistique à une multi-classification, nous allons utiliser une stratégie 1 contre tous.\n",
        "\n",
        "Nous paramètres $\\theta$ seront donc une matrice avec un nombre de lignes égale au nombre de classes, et avec un nombre de colones égale au nombre decaractéristiques (chaque ligne de la matrice $\\theta$ correspond aux paramètres d'un classifieur."
      ]
    },
    {
      "cell_type": "code",
      "source": [
        "def Sigmoid(z):\n",
        "  return 1 / (1 + np.exp(-z))"
      ],
      "metadata": {
        "id": "ssf-CnTdoWDm"
      },
      "execution_count": null,
      "outputs": []
    },
    {
      "cell_type": "code",
      "execution_count": null,
      "metadata": {
        "id": "GIqcT0M1mRBq"
      },
      "outputs": [],
      "source": [
        "def lrCostFunction (X, y, initial_theta, alpha, MaxIter,lambda_):\n",
        "    # dans cette fonction vous devez appliquer la regression logistique avec tout ce que ceci implique\n",
        "    # calcul du coût, minimisation du coût avec descente du gradient, et retour des paramètres theta pour une classe\n",
        "    theta = np.array(initial_theta, copy=True)\n",
        "    X_T = X.T\n",
        "    m = X.shape[0]\n",
        "\n",
        "    for i in range(MaxIter):\n",
        "        y_hat = Sigmoid(X @ theta)\n",
        "        error = y_hat - y\n",
        "        grad = X_T @ error / m\n",
        "        theta[0] -= alpha * grad[0]\n",
        "        theta[1:] *= 1 - alpha * lambda_ / m\n",
        "        theta[1:] -= alpha * grad[1:]\n",
        "    return theta.T\n"
      ]
    },
    {
      "cell_type": "code",
      "execution_count": null,
      "metadata": {
        "id": "9Z6LQmoymRBq"
      },
      "outputs": [],
      "source": [
        "def predictOneVsAll (all_theta, X):\n",
        "    # ici en utilisant les paramètres calculés par la régression logisitique,\n",
        "    # nous aiemrions retourner les etiquettes predites\n",
        "\n",
        "    # Ici chaque classifieur retournera de probabilité, il faudra choisir\n",
        "    # la probabilité maximale\n",
        "    # de tous les classifieurs d'une exemple donné\n",
        "    # répeter pour tous les exmemples\n",
        "\n",
        "    y_pred = np.argmax(Sigmoid(X @ all_theta.T), axis=1)\n",
        "\n",
        "    return classes[y_pred[..., np.newaxis]]"
      ]
    },
    {
      "cell_type": "code",
      "execution_count": null,
      "metadata": {
        "id": "s6QVmfzYmRBr",
        "colab": {
          "base_uri": "https://localhost:8080/"
        },
        "outputId": "f26f7ade-99b0-4ea7-8d57-5abf0f94f0c9"
      },
      "outputs": [
        {
          "output_type": "execute_result",
          "data": {
            "text/plain": [
              "(10, 401)"
            ]
          },
          "metadata": {},
          "execution_count": 13
        }
      ],
      "source": [
        "classes= np.unique(y)\n",
        "number_classes=classes.shape[0]\n",
        "all_theta = np.zeros((number_classes, X.shape[1]));\n",
        "all_theta.shape"
      ]
    },
    {
      "cell_type": "code",
      "execution_count": null,
      "metadata": {
        "id": "eLbJsMbSmRBr"
      },
      "outputs": [],
      "source": [
        "MaxIter= 10000\n",
        "lambda_= 0.1\n",
        "alpha = 0.01\n",
        "# initial_theta pour chaque classifieur\n",
        "initial_theta=np.zeros((X.shape[1], 1));\n",
        "for i in range (number_classes):\n",
        "     # appel pour chaque classifieur\n",
        "     theta = lrCostFunction(X,(y==classes[i]).astype(int),initial_theta,alpha, MaxIter,lambda_);\n",
        "     all_theta[i,:]=theta;"
      ]
    },
    {
      "cell_type": "code",
      "execution_count": null,
      "metadata": {
        "id": "mJ4rFsHsmRBs"
      },
      "outputs": [],
      "source": [
        "y_pred = predictOneVsAll(all_theta, X);"
      ]
    },
    {
      "cell_type": "markdown",
      "metadata": {
        "id": "uH7VBfbZmRBs"
      },
      "source": [
        "# Qualité du classifieur RL\n",
        "\n",
        "Prédire des valeurs de y\n",
        "\n",
        "Ici il serait interessant de calculer la précision de notre classifieur\n",
        "\n",
        "Essayons de calculer ça avec\n",
        "\n",
        "moyenne(y==y-pred) * 100\n",
        "\n",
        "Ceci donnera un pourcentage de precision"
      ]
    },
    {
      "cell_type": "code",
      "execution_count": null,
      "metadata": {
        "id": "AUX_McsbmRBt",
        "outputId": "505c9d67-223c-40f7-80b5-6c2c300a6bc3",
        "colab": {
          "base_uri": "https://localhost:8080/"
        }
      },
      "outputs": [
        {
          "output_type": "execute_result",
          "data": {
            "text/plain": [
              "89.92"
            ]
          },
          "metadata": {},
          "execution_count": 16
        }
      ],
      "source": [
        "precision = np.mean(y==y_pred)*100\n",
        "precision\n"
      ]
    },
    {
      "cell_type": "markdown",
      "metadata": {
        "id": "PoWwKzcvmRBt"
      },
      "source": [
        "# Partie 2: Réseaux de neurones\n",
        "Pour cette partie, nous choisissons une réseau simple:\n",
        "\n",
        "- une couche d'entrée avec 400 noeuds (20 x 20 pixels) + le biais\n",
        "- une couche cachée avec 25 noeuds\n",
        "- une couche de sortie avec 10 noeuds (nombre de classes)"
      ]
    },
    {
      "cell_type": "code",
      "execution_count": null,
      "metadata": {
        "id": "pRgpTulFmRBt",
        "outputId": "ff009365-e01a-482c-a938-89d608343855",
        "colab": {
          "base_uri": "https://localhost:8080/"
        }
      },
      "outputs": [
        {
          "output_type": "execute_result",
          "data": {
            "text/plain": [
              "(25, 401)"
            ]
          },
          "metadata": {},
          "execution_count": 17
        }
      ],
      "source": [
        "# poids de la couche 1\n",
        "W1 = np.genfromtxt('W1.csv', delimiter=',', dtype=float)\n",
        "W1.shape\n"
      ]
    },
    {
      "cell_type": "code",
      "execution_count": null,
      "metadata": {
        "id": "AmFALiwAmRBu",
        "outputId": "b9120ff0-0cec-4895-dbdd-667db5518d6b",
        "colab": {
          "base_uri": "https://localhost:8080/"
        }
      },
      "outputs": [
        {
          "output_type": "execute_result",
          "data": {
            "text/plain": [
              "(10, 26)"
            ]
          },
          "metadata": {},
          "execution_count": 18
        }
      ],
      "source": [
        "# poids de la couche 2\n",
        "W2 = np.genfromtxt('W2.csv', delimiter=',', dtype=float)\n",
        "W2.shape"
      ]
    },
    {
      "cell_type": "code",
      "execution_count": null,
      "metadata": {
        "id": "7K2N1qYZmRBu"
      },
      "outputs": [],
      "source": [
        "input_layer_size  = 400;\n",
        "hidden_layer_size = 25;\n",
        "num_labels = 10;"
      ]
    },
    {
      "cell_type": "markdown",
      "metadata": {
        "id": "V9rnwbCgmRBu"
      },
      "source": [
        "**Prédiction**\n",
        "\n",
        "Appliquer une propagation en avant en utilisant les paramètres données pour prédir les classes de l'ensemble d'apprentissage.\n",
        "\n"
      ]
    },
    {
      "cell_type": "code",
      "execution_count": null,
      "metadata": {
        "id": "SKUqKpbkmRBu"
      },
      "outputs": [],
      "source": [
        "def sigmoid(z):\n",
        "    return 1 / (1 + np.exp(-z))"
      ]
    },
    {
      "cell_type": "code",
      "execution_count": null,
      "metadata": {
        "id": "H1_93yrTmRBv"
      },
      "outputs": [],
      "source": [
        "def predict (W1, W2, X):\n",
        "\n",
        "    \"\"\"\n",
        "    Arguments:\n",
        "    W1 -- matrice de poids pour la première couche, de forme (taille_couches_cachées, taille_couche_d'entrée + 1)\n",
        "    W2 -- matrice de poids pour la deuxième couche, de forme (nombre_d'étiquettes, taille_couches_cachées + 1)\n",
        "    X -- données d'entrée, de forme (nombre_d'échantillons, taille_couche_d'entrée)\n",
        "\n",
        "    Renvoie:\n",
        "    y_pred -- étiquettes de classe prédites, de forme (nombre_d'échantillons, 1)\n",
        "    \"\"\"\n",
        "\n",
        "    # Calculer la sortie de la première couche cachée\n",
        "    layer1_output = sigmoid(X @ W1.T)\n",
        "\n",
        "    # Ajouter un biais à la sortie de la première couche cachée\n",
        "    layer2_input = np.column_stack((np.ones((X.shape[0], 1)), layer1_output))\n",
        "\n",
        "    # Calculer la sortie de la deuxième couche cachée\n",
        "    layer2_output = sigmoid(layer2_input @ W2.T)\n",
        "\n",
        "    # Prédire les étiquettes de classe en choisissant la sortie avec la valeur maximale\n",
        "    y_pred = np.argmax(layer2_output, axis=1).reshape(-1, 1)\n",
        "\n",
        "    # Convertir les étiquettes de classe prédites de 1 à 10 en 0 à 9 (pour correspondre à l'index de la sortie de la couche de sortie)\n",
        "    y_pred = (y_pred + 1) % 10\n",
        "\n",
        "    return y_pred"
      ]
    },
    {
      "cell_type": "code",
      "execution_count": null,
      "metadata": {
        "id": "QcyW4UccmRBv",
        "outputId": "dd67e7e7-a348-4988-f674-cc13cc34a74f",
        "colab": {
          "base_uri": "https://localhost:8080/"
        }
      },
      "outputs": [
        {
          "output_type": "execute_result",
          "data": {
            "text/plain": [
              "97.52"
            ]
          },
          "metadata": {},
          "execution_count": 22
        }
      ],
      "source": [
        "# calcul de precision = nombre de valeurs bien prédites (ici sur toute la base X)\n",
        "y_pred=predict(W1,W2,X)\n",
        "precision = np.mean(y==y_pred)*100\n",
        "precision"
      ]
    },
    {
      "cell_type": "markdown",
      "metadata": {
        "id": "vpQiLH22mRBv"
      },
      "source": [
        "# Vérification de l'implementation\n",
        "Comparer vos algorithmes à ceux de scikitlearn"
      ]
    },
    {
      "cell_type": "code",
      "execution_count": null,
      "metadata": {
        "id": "LudKbkTfmRBv"
      },
      "outputs": [],
      "source": [
        "from sklearn.neural_network import MLPClassifier\n",
        "\n",
        "def compareRN(X,y,W1,W2):\n",
        "    clf = MLPClassifier(hidden_layer_sizes=(25,), activation='logistic', solver='sgd',alpha=0.01, batch_size=32)\n",
        "    clf.fit(X, y.ravel())\n",
        "\n",
        "    # calculer la précision de notre implémentation sur l'ensemble d'apprentissage\n",
        "    y_pred = predict(W1, W2, X)\n",
        "    accuracy_train = np.mean(y_pred == y) * 100\n",
        "    print(\"Accuracy on training set (custom implementation):\", accuracy_train)\n",
        "\n",
        "    # calculer la précision de scikit-learn sur l'ensemble d'apprentissage\n",
        "    accuracy_sklearn = clf.score(X, y) * 100\n",
        "    print(\"Accuracy on training set (scikit-learn implementation):\", accuracy_sklearn)\n",
        "\n"
      ]
    },
    {
      "cell_type": "code",
      "source": [
        "from sklearn.linear_model import LogisticRegression\n",
        "\n",
        "\n",
        "def compareLR():\n",
        "   model = LogisticRegression(penalty=\"l2\", max_iter=10000, multi_class='ovr')\n",
        "   model.fit(X[:, 1:], y.squeeze())\n",
        "   y_prob = model.predict_proba(X[:, 1:])\n",
        "   y_pred = np.argmax(y_prob, axis=1)[..., np.newaxis]\n",
        "   print(f\"Our logistic regression : {precision}\")\n",
        "   print(f\"Sklearn logistic regression : {np.mean(y_pred==y)*100}\")\n"
      ],
      "metadata": {
        "id": "SDifuLggzWuC"
      },
      "execution_count": null,
      "outputs": []
    },
    {
      "cell_type": "code",
      "source": [
        "compareRN(X,y,W1,W2)"
      ],
      "metadata": {
        "id": "s9lkN2nv9tM9",
        "colab": {
          "base_uri": "https://localhost:8080/"
        },
        "outputId": "346b7a05-6762-4a75-c8f0-7082bde7536f"
      },
      "execution_count": null,
      "outputs": [
        {
          "output_type": "stream",
          "name": "stdout",
          "text": [
            "Accuracy on training set (custom implementation): 97.52\n",
            "Accuracy on training set (scikit-learn implementation): 92.67999999999999\n"
          ]
        },
        {
          "output_type": "stream",
          "name": "stderr",
          "text": [
            "/usr/local/lib/python3.10/dist-packages/sklearn/neural_network/_multilayer_perceptron.py:686: ConvergenceWarning: Stochastic Optimizer: Maximum iterations (200) reached and the optimization hasn't converged yet.\n",
            "  warnings.warn(\n"
          ]
        }
      ]
    },
    {
      "cell_type": "code",
      "source": [
        "y_pred = predictOneVsAll(all_theta, X);\n",
        "precision = np.mean(y==y_pred)*100"
      ],
      "metadata": {
        "id": "yP4v3Y4rEI__"
      },
      "execution_count": null,
      "outputs": []
    },
    {
      "cell_type": "code",
      "source": [
        "compareLR()"
      ],
      "metadata": {
        "id": "QltvfpTr0qgQ",
        "outputId": "01c6fad8-8817-4eaa-cfbd-5b3b136619bd",
        "colab": {
          "base_uri": "https://localhost:8080/"
        }
      },
      "execution_count": null,
      "outputs": [
        {
          "output_type": "stream",
          "name": "stdout",
          "text": [
            "Our logistic regression : 89.92\n",
            "Sklearn logistic regression : 94.46\n"
          ]
        }
      ]
    },
    {
      "cell_type": "markdown",
      "metadata": {
        "id": "miGpSOzqmRBw"
      },
      "source": [
        "# Renforcement d'apprentissage\n",
        "Mettre ici toute idée qui pourrait renforcer votre apprentissage"
      ]
    },
    {
      "cell_type": "markdown",
      "source": [
        "On s'intéresse dans cette partie au renforcement de l'apprentissage du modèle de regréssion logistique conçu dans la première partie, vu que le modèle des réseaux de neurones sera complété dans le TP6.\n",
        "\n",
        "Afin d'améliorer l'apprentissage, on peut penser à faire une cross validation qui nous permet de trouver le meilleur parametre lambda pour effectuer la régularisation.\n",
        "On teste alors cette dernière ci-dessous sur le modèle logistic regression de Sklearn et on constate que la precision augmente."
      ],
      "metadata": {
        "id": "eS4XgK2hfo_o"
      }
    },
    {
      "cell_type": "code",
      "source": [
        "from sklearn.linear_model import LogisticRegression\n",
        "from sklearn.model_selection import GridSearchCV\n",
        "from sklearn.model_selection import train_test_split\n",
        "\n",
        "\n",
        "X_train, X_test, y_train, y_test = train_test_split(X, y, test_size=0.2, random_state=42)\n",
        "\n",
        "# Définir les valeurs de paramètre de régularisation (lambda) à tester à travers la recherche en grille (grid search)\n",
        "param_grid = {'C': [0.1, 0.2, 0.4, 0.6, 0.8, 1]}\n",
        "\n",
        "# Créer une instance de la classe LogisticRegression\n",
        "logreg = LogisticRegression(penalty=\"l2\", max_iter=10000, multi_class='ovr')\n",
        "\n",
        "# Créer un objet GridSearchCV pour faire la recherche en grille et ajuster les hyperparamètres du modèle sur les données d'apprentissage\n",
        "# Ici, on utilise la validation croisée à 10 plis (10-fold cross-validation) pour évaluer chaque combinaison de paramètres\n",
        "grid_search = GridSearchCV(logreg, param_grid, cv=10)\n",
        "grid_search.fit(X_train, y_train)\n",
        "\n"
      ],
      "metadata": {
        "id": "Gi7JIFdd_-rq"
      },
      "execution_count": null,
      "outputs": []
    },
    {
      "cell_type": "code",
      "source": [
        "print(\"Best lambda:\", grid_search.best_params_['C'])"
      ],
      "metadata": {
        "colab": {
          "base_uri": "https://localhost:8080/"
        },
        "id": "zCmk4B1_A8Zf",
        "outputId": "48cd8180-1f59-4898-dd43-76dc7db8785e"
      },
      "execution_count": null,
      "outputs": [
        {
          "output_type": "stream",
          "name": "stdout",
          "text": [
            "Best lambda: 0.8\n"
          ]
        }
      ]
    },
    {
      "cell_type": "markdown",
      "source": [
        "On refait l'apprentissage avec ce nouveau parametre lambda :"
      ],
      "metadata": {
        "id": "i5LwZEvQMJFq"
      }
    },
    {
      "cell_type": "code",
      "source": [
        "model = LogisticRegression(penalty=\"l2\", max_iter=10000, C=1/0.8, multi_class='ovr')\n",
        "model.fit(X[:, 1:], y.squeeze())\n",
        "y_prob = model.predict_proba(X[:, 1:])\n",
        "y_pred = np.argmax(y_prob, axis=1)[..., np.newaxis]\n",
        "print(f\"Sklearn logistic regression : {np.mean(y_pred==y)*100}\")"
      ],
      "metadata": {
        "colab": {
          "base_uri": "https://localhost:8080/"
        },
        "id": "TrLpzTzcK_Ol",
        "outputId": "3be2eadf-cb4a-41d5-8f80-af6ecc9da986"
      },
      "execution_count": null,
      "outputs": [
        {
          "output_type": "stream",
          "name": "stdout",
          "text": [
            "Sklearn logistic regression : 94.6\n"
          ]
        }
      ]
    },
    {
      "cell_type": "markdown",
      "source": [
        "Le résultat est meilleur que le précédant"
      ],
      "metadata": {
        "id": "vECe1UwKMrwB"
      }
    },
    {
      "cell_type": "markdown",
      "metadata": {
        "id": "pr06KvVNmRBw"
      },
      "source": [
        "# Consignes"
      ]
    },
    {
      "cell_type": "markdown",
      "metadata": {
        "id": "KYEqrG1EmRBx"
      },
      "source": [
        "Le travail est à remettre par groupe de 4 au maximum [1..4].\n",
        "\n",
        "Le délai est le vendredi 22 Avril 2022 à 22h\n"
      ]
    },
    {
      "cell_type": "code",
      "execution_count": null,
      "metadata": {
        "id": "Bis0VOsCmRBx"
      },
      "outputs": [],
      "source": [
        "# bonne chance"
      ]
    }
  ],
  "metadata": {
    "colab": {
      "provenance": [],
      "include_colab_link": true
    },
    "kernelspec": {
      "display_name": "Python 3 (ipykernel)",
      "language": "python",
      "name": "python3"
    },
    "language_info": {
      "codemirror_mode": {
        "name": "ipython",
        "version": 3
      },
      "file_extension": ".py",
      "mimetype": "text/x-python",
      "name": "python",
      "nbconvert_exporter": "python",
      "pygments_lexer": "ipython3",
      "version": "3.9.10"
    },
    "accelerator": "GPU",
    "gpuClass": "standard"
  },
  "nbformat": 4,
  "nbformat_minor": 0
}